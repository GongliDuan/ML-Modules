{
 "cells": [
  {
   "cell_type": "code",
   "execution_count": null,
   "metadata": {
    "collapsed": true
   },
   "outputs": [],
   "source": [
    "\n",
    "import numpy as np\n",
    "import scipy\n",
    "\n",
    "class RS():\n",
    "    \n",
    "    def __init__(self,num_users,num_movies,mum_features=10,lam=1):\n",
    "        \n",
    "        self.num_users=num_users\n",
    "        self.num_movies=num_movies\n",
    "        self.mum_features=mum_features\n",
    "        self.theta_matrix = np.random.rand(self.num_users,self.num_features)\n",
    "        self.feature_matrix = np.random.rand(self.num_movies,self.num_features)\n",
    "        self.R=None\n",
    "        self.lam=lam\n",
    "        self.theta=np.concatenate((self.theta_matrix, self.feature_matrix), axis=0)\n",
    "        self.coef=None\n",
    "        '''\n",
    "        self.theta_matrix=self.theta[0:self.num_users]\n",
    "        self.feature_matrix=self.theta[self.num_users:]\n",
    "        '''\n",
    "    def cal_cost(self,X,theta):\n",
    "        \n",
    "        self.R=X        \n",
    "        self.R[np.isnan(self.R)]=0\n",
    "        self.R[np.nonzero(self.R)]=1\n",
    "        X[np.isnan(X)]=0\n",
    "        theta=np.concatenate((self.theta_matrix, self.feature_matrix), axis=0)\n",
    "        #J = 0.5*sum(sum((((X*Theta') - Y).*R).^2)) + (lambda/2)*(sum(sum(Theta.^2)) + sum(sum(X.^2)));\n",
    "        \n",
    "        J= 0.5*sum(np.square(np.multiply(np.dot(np.transpose(theta[0:self.num_users]), theta[self.num_users:]) ,self.R)-X)) + \\\n",
    "        (self.lam/2)*sum(np.square(theta[0:self.num_users])) + (self.lam/2)*sum(np.square(theta[self.num_users:]))\n",
    "\n",
    "        return J\n",
    "\n",
    "    def cal_grad(self,X,theta):\n",
    "        self.R=X        \n",
    "        self.R[np.isnan(self.R)]=0\n",
    "        self.R[np.nonzero(self.R)]=1\n",
    "        X[np.isnan(X)]=0\n",
    "        theta=np.concatenate((self.theta_matrix, self.feature_matrix), axis=0)\n",
    "        grad[0:self.num_users] = sum(np.dot(np.multiply(np.dot(np.transpose(theta[0:self.num_users]), theta[self.num_users:]) ,self.R)-X,theta[0:self.num_users])) + sum(self.lam*theta[0:self.num_users]) \n",
    "        grad[self.num_users:] =sum(np.dot(np.multiply(np.dot(np.transpose(theta[0:self.num_users]), theta[self.num_users:]) ,self.R)-X,theta[self.num_users:])) + sum(self.lam*theta[self.num_users:])\n",
    "        \n",
    "        return grad.ravel()\n",
    "        \n",
    "    def train(self,X):\n",
    "        theta=np.concatenate((self.theta_matrix, self.feature_matrix), axis=0)\n",
    "        result = scipy.optimize.minimize(fun=self.calc_cost, x0=theta, args=X,method='BFGS', jac=self.calc_gradient,options={\"maxiter\": 100, \"disp\": False})\n",
    "        self.coef = result.x\n",
    "        return self\n",
    "        \n",
    "    def predict(self, X):\n",
    "        \n",
    "        y=np.dot(np.transpose(self.coef[0:self.num_users]), self.coef[self.num_users:]) \n",
    "        X[np.isnan(X)]=0\n",
    "        temp=np.multiply(X,y)\n",
    "        y=y-temp+X\n",
    "        return y\n",
    "        \n",
    "\n"
   ]
  }
 ],
 "metadata": {
  "kernelspec": {
   "display_name": "Python 2",
   "language": "python",
   "name": "python2"
  },
  "language_info": {
   "codemirror_mode": {
    "name": "ipython",
    "version": 2
   },
   "file_extension": ".py",
   "mimetype": "text/x-python",
   "name": "python",
   "nbconvert_exporter": "python",
   "pygments_lexer": "ipython2",
   "version": "2.7.11"
  }
 },
 "nbformat": 4,
 "nbformat_minor": 0
}
