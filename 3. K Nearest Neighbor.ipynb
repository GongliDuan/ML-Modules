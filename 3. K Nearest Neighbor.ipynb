{
 "cells": [
  {
   "cell_type": "markdown",
   "metadata": {},
   "source": [
    "# K Nearest Neighbor (KNN)"
   ]
  },
  {
   "cell_type": "markdown",
   "metadata": {},
   "source": [
    "The K Nearest Neighbors algorithm, normally called KNN, is a non-parametric method used for classification and regression.For this method, we don't have to do a lot of calculate, and the theory is pretty strightforward. \n",
    "\n",
    "Normally, we could set those steps for this method.\n",
    "\n",
    "First, set the number K. It means deciding how many train samples we will use to direct predict test sample. \n",
    "\n",
    "Second, for a specific test sample, we need to find K train samples which are the 'closest'.\n",
    "\n",
    "Third, after we picked out the K nearest samples, we can collect their targets. If it's a regression problem, we can calculate the average to get the prediction, and if it's a classfication questions, we can find the mode. \n",
    "\n",
    "At here, when we do the forecast, the default weight is uniform for each sample in K group. We can also set different weight, usually we can give the weight depend on how nearest for each train sample to the test sample."
   ]
  },
  {
   "cell_type": "markdown",
   "metadata": {},
   "source": [
    "###### The following is the module built by python:"
   ]
  },
  {
   "cell_type": "code",
   "execution_count": null,
   "metadata": {
    "collapsed": true
   },
   "outputs": [],
   "source": [
    "import numpy as np\n",
    "from operator import *\n",
    "\n",
    "class KNN():\n",
    "    \n",
    "    def __init__(self, K, model = 'regression', weight = 'uniform'):\n",
    "        # Set the appropriate K\n",
    "        # model could be either 'regression' or 'classification'\n",
    "        # weight could be either 'uniform' or 'unequal'\n",
    "        self.K = K\n",
    "        self.model = model\n",
    "        self.weight = weight\n",
    "        self.X_train = None\n",
    "        self.y = None\n",
    "        \n",
    "    def distance(self,X1,X2):\n",
    "        # calculate the distance between two samples\n",
    "        try:\n",
    "            return np.sqrt(sum(np.power(np.array(X1)-np.array(X2),2)))\n",
    "        except:\n",
    "            return None\n",
    "            \n",
    "    def search_K(self, X_test):\n",
    "        #find K samples in train set which are nearest to the test sample\n",
    "        m, n = self.X_train.shape\n",
    "        dist_list=[]\n",
    "        for i in range(m):\n",
    "            dist =self.distance(self.X_train[i, :], X_test)\n",
    "            dist_list.append([dist,self.y[i]])\n",
    "        dist_list = sorted( dist_list, key = itemgetter(0))  \n",
    "        print dist_list\n",
    "        return dist_list[:self.K]\n",
    "    \n",
    "    def fit(self, X, y):\n",
    "        #No learning process, just storage train data for further search\n",
    "        self.X_train=X\n",
    "        self.y=y\n",
    "        \n",
    "        return self\n",
    "    \n",
    "    def predict(self,X):\n",
    "        \n",
    "        X = np.array(X)\n",
    "        \n",
    "        m = X.shape[0]\n",
    "        y_predict = np.zeros((m, 1))\n",
    "        \n",
    "        if self.model== 'regression':\n",
    "            for i in range(m):\n",
    "                print X[i, :]\n",
    "                K_Group = self.search_K(X[i, :])\n",
    "                \n",
    "                if self.weight=='uniform':\n",
    "                    y_predict[i] = np.average([item[1] for item in K_Group])\n",
    "                    \n",
    "                if self.weight=='unequal':\n",
    "                    y_predict[i] = np.average([item[1] for item in K_Group], weights=1.0/[item[0] for item in K_Group])\n",
    "                \n",
    "        if self.model == 'classification':\n",
    "            for i in range(m):\n",
    "                K_Group = self.search_K(X[i, :])\n",
    "                if self.weight=='uniform':\n",
    "                    counts = np.bincount([item[1] for item in K_Group])\n",
    "                    y_predict[i] = np.argmax(counts)\n",
    "                    \n",
    "                if self.weight=='unequal':\n",
    "                    \n",
    "                    K_Gropu_target=[]\n",
    "                    K_Gropu_weights=[]\n",
    "                    y_list=np.unique(self.y)\n",
    "                    np.zeros((len(y_list, 1)))\n",
    "                    K_Gropu_target=[item[1] for item in K_Group]\n",
    "                    K_Gropu_weights=[item[0] for item in K_Group]\n",
    "                    dictionary = dict(zip(y_list, values))\n",
    "                    for j in K_Group:\n",
    "                             dictionary[j[1]]=dictionary[j[1]]+1.0/j[0]\n",
    "                    max(dictionary.iteritems(), key=operator.itemgetter(1))[0]\n",
    "                    \n",
    "        return y_predict.ravel()    "
   ]
  }
 ],
 "metadata": {
  "kernelspec": {
   "display_name": "Python 2",
   "language": "python",
   "name": "python2"
  },
  "language_info": {
   "codemirror_mode": {
    "name": "ipython",
    "version": 2
   },
   "file_extension": ".py",
   "mimetype": "text/x-python",
   "name": "python",
   "nbconvert_exporter": "python",
   "pygments_lexer": "ipython2",
   "version": "2.7.11"
  }
 },
 "nbformat": 4,
 "nbformat_minor": 0
}
