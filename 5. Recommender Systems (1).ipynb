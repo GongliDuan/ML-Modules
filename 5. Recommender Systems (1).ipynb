{
 "cells": [
  {
   "cell_type": "markdown",
   "metadata": {
    "collapsed": true
   },
   "source": [
    "# Recommender Systems"
   ]
  },
  {
   "cell_type": "markdown",
   "metadata": {},
   "source": [
    "Recommender systems or recommendation systems, are a subclass of information filtering system that seek to predict the 'rating' or 'preference' that a user would give to an item. In nowadays world, we could find this module is widely used, everytime you shop online, read books or watch movies, there would be recommendations based on your history behaviour.  "
   ]
  },
  {
   "cell_type": "markdown",
   "metadata": {},
   "source": [
    "We can introduce it from a real situation. Try to assume there is a movie website. Anybody can watch movies and rank them after watching, so based on viewers' rank, we could guess what movies they would like and recommend to them. So in this note it will show you how to slove this problem."
   ]
  },
  {
   "cell_type": "markdown",
   "metadata": {},
   "source": [
    "1, Dataset:\n",
    "For this specific problem, the input dataset would be like this:\n",
    "<img src=\"https://github.com/GongliDuan/exdata-data-household_power_consumption/blob/master/5.0.png?raw=true\" alt=\"5.0.png\">\n",
    "\n",
    "The columns mean each moive, and rows mean each viewer. The numbers are between 1 to 10, means how much they like the movie. And for the Nan, it means people never wathc or rank this movie. We need to do prediction here, to forecast the missing value and by the result to decide whether to recommend the movie to viewer.\n",
    "\n",
    "\n",
    "2, Define the notation:\n",
    "\n",
    "Let's firstly assume there are $\\textbf{n}$ parameters for each movie and person.\n",
    "\n",
    "m: number of movies\n",
    "\n",
    "u: number of viewers\n",
    "\n",
    "x: movie-feature matrix. It's m*n deminsional.\n",
    "\n",
    "$\\theta$: viewer-feature matrix. It's u*n deminsional.\n",
    "\n",
    "To help understand:<img src=\"https://github.com/GongliDuan/exdata-data-household_power_consumption/blob/master/5.1.png?raw=true\" alt=\"5.1.png\">\n",
    "\n",
    "y: the rating scores matrix(Input matrix). $y^{(i,j)}$ means the rating for movie i by user j\n",
    "\n",
    "R: an binary-valued indicator matrix, where R(i,j) = 1 if user j gave a rating to movie i, and R(i,j) = 0 otherwise.\n",
    "\n",
    "3, Collaborative filtering learning algorithm\n",
    "\n",
    "We already know, for predictive y, it equals x * $\\theta$, but either of them is for sure, so we have to estimate both of them at the same time. \n",
    "\n",
    "Here is the cost function with regularization item we need to minimize:\n",
    "<img src=\"https://github.com/GongliDuan/exdata-data-household_power_consumption/blob/master/5.2.png?raw=true\" alt=\"5.2.png\">\n",
    "\n",
    "Here is the regularized gradient we can use to finish minimization:\n",
    "<img src=\"https://github.com/GongliDuan/exdata-data-household_power_consumption/blob/master/5.3.png?raw=true\" alt=\"5.3.png\">"
   ]
  },
  {
   "cell_type": "markdown",
   "metadata": {},
   "source": [
    "###### The following is the module built by python:"
   ]
  },
  {
   "cell_type": "code",
   "execution_count": null,
   "metadata": {
    "collapsed": true
   },
   "outputs": [],
   "source": [
    "\n",
    "import numpy as np\n",
    "import scipy\n",
    "\n",
    "class RS():\n",
    "    \n",
    "    def __init__(self,num_users,num_movies,mum_features=10,lam=1):\n",
    "        \n",
    "        self.num_users=num_users\n",
    "        self.num_movies=num_movies\n",
    "        self.mum_features=mum_features\n",
    "        self.theta_matrix = np.random.rand(self.num_users,self.num_features)\n",
    "        self.feature_matrix = np.random.rand(self.num_movies,self.num_features)\n",
    "        self.R=None\n",
    "        self.lam=lam\n",
    "        self.coef=None\n",
    "                \n",
    "         \n",
    "    def cal_cost(self,X,theta):\n",
    "        # Build collaborative filtering learning algorithm\n",
    "        self.R=X        \n",
    "        self.R[np.isnan(self.R)]=0\n",
    "        self.R[np.nonzero(self.R)]=1\n",
    "        X[np.isnan(X)]=0\n",
    "        theta=np.concatenate((self.theta_matrix, self.feature_matrix), axis=0)\n",
    "        # theta is the combination of theta_matrix and feature_matrix\n",
    "        # we combine them together to easy our optimization process\n",
    "        # self.theta_matrix=theta[0:self.num_users]\n",
    "        # self.feature_matrix=theta[self.num_users:]\n",
    "        \n",
    "        J= 0.5*sum(np.square(np.multiply(np.dot(np.transpose(theta[0:self.num_users]), theta[self.num_users:]) ,self.R)-X)) + \\\n",
    "        (self.lam/2)*sum(np.square(theta[0:self.num_users])) + (self.lam/2)*sum(np.square(theta[self.num_users:]))\n",
    "\n",
    "        return J\n",
    "\n",
    "    def cal_grad(self,X,theta):\n",
    "        # Build gradient function\n",
    "        self.R=X        \n",
    "        self.R[np.isnan(self.R)]=0\n",
    "        self.R[np.nonzero(self.R)]=1\n",
    "        X[np.isnan(X)]=0\n",
    "        theta=np.concatenate((self.theta_matrix, self.feature_matrix), axis=0)\n",
    "        grad[0:self.num_users] = sum(np.dot(np.multiply(np.dot(np.transpose(theta[0:self.num_users]), theta[self.num_users:]) ,self.R)-X,theta[0:self.num_users])) + sum(self.lam*theta[0:self.num_users]) \n",
    "        grad[self.num_users:] =sum(np.dot(np.multiply(np.dot(np.transpose(theta[0:self.num_users]), theta[self.num_users:]) ,self.R)-X,theta[self.num_users:])) + sum(self.lam*theta[self.num_users:])\n",
    "        \n",
    "        return grad.ravel()\n",
    "        \n",
    "    def train(self,X):\n",
    "        # Fit the module\n",
    "        theta=np.concatenate((self.theta_matrix, self.feature_matrix), axis=0)\n",
    "        result = scipy.optimize.minimize(fun=self.calc_cost, x0=theta, args=X,method='BFGS', jac=self.calc_gradient,options={\"maxiter\": 100, \"disp\": False})\n",
    "        self.coef = result.x\n",
    "        return self\n",
    "        \n",
    "    def predict(self, X):\n",
    "        # preidct.\n",
    "        # the output would be a movie-viewer rating score matrix just like input, but the \n",
    "        # missing score will be filled by prediction\n",
    "        y=np.dot(np.transpose(self.coef[0:self.num_users]), self.coef[self.num_users:]) \n",
    "        X[np.isnan(X)]=0\n",
    "        temp=np.multiply(X,y)\n",
    "        y=y-temp+X\n",
    "        return y\n",
    "        \n",
    "\n"
   ]
  }
 ],
 "metadata": {
  "kernelspec": {
   "display_name": "Python 2",
   "language": "python",
   "name": "python2"
  },
  "language_info": {
   "codemirror_mode": {
    "name": "ipython",
    "version": 2
   },
   "file_extension": ".py",
   "mimetype": "text/x-python",
   "name": "python",
   "nbconvert_exporter": "python",
   "pygments_lexer": "ipython2",
   "version": "2.7.11"
  }
 },
 "nbformat": 4,
 "nbformat_minor": 0
}
